{
 "cells": [
  {
   "cell_type": "code",
   "execution_count": 11,
   "metadata": {},
   "outputs": [],
   "source": [
    "import csv\n",
    "f=open('english_words.csv','r')\n",
    "data = csv.reader(f)"
   ]
  },
  {
   "cell_type": "code",
   "execution_count": 12,
   "metadata": {},
   "outputs": [],
   "source": [
    "english_words=[]\n",
    "for row in data:\n",
    "    english_words.append(''.join(row))"
   ]
  },
  {
   "cell_type": "code",
   "execution_count": 13,
   "metadata": {},
   "outputs": [],
   "source": [
    "class match:\n",
    "    def __init__(self):\n",
    "        self.percent=0.0\n",
    "        self.key=0\n",
    "        self.message=\"\"\n",
    "    def setDetails(self,percent,key,message):\n",
    "        self.percent=percent\n",
    "        self.key=key\n",
    "        self.message=message"
   ]
  },
  {
   "cell_type": "code",
   "execution_count": 14,
   "metadata": {},
   "outputs": [],
   "source": [
    "cipher_text=input(\"Enter cipher text:\")\n",
    "maximum=match()"
   ]
  },
  {
   "cell_type": "code",
   "execution_count": 15,
   "metadata": {},
   "outputs": [
    {
     "name": "stdout",
     "output_type": "stream",
     "text": [
      "Key= 2\n",
      "Recovered message: velammal\n"
     ]
    }
   ],
   "source": [
    "for i in range(1,27):\n",
    "    decrypted_text=\"\"\n",
    "    lb=0\n",
    "    words=[]\n",
    "    total_words=0\n",
    "    matched_words=0.0\n",
    "    for char in cipher_text:\n",
    "        x=ord(char)-i\n",
    "        if x<97:\n",
    "            x=x+26\n",
    "        if char!=' ':\n",
    "            decrypted_text=decrypted_text+chr(x)\n",
    "        elif char==' ':\n",
    "            decrypted_text=decrypted_text+' '\n",
    "    for fp in range(0,len(decrypted_text)):\n",
    "        if decrypted_text[fp]==' ':\n",
    "            words.append(decrypted_text[lb:fp])\n",
    "            lb=fp+1\n",
    "            total_words+=1\n",
    "        elif fp+1==len(decrypted_text):\n",
    "            words.append(decrypted_text[lb:fp+1])\n",
    "            total_words+=1\n",
    "    for token in words:\n",
    "        if token in english_words:\n",
    "            matched_words+=1\n",
    "        for word in english_words:\n",
    "            if word.count(token,0,len(token)+2)!=0 or token.count(word,0,len(word)+2)!=0:\n",
    "                matched_words+=0.5\n",
    "    if maximum.percent<(matched_words/total_words)*100:\n",
    "        maximum.setDetails((matched_words/total_words)*100,i,decrypted_text)\n",
    "    del words\n",
    "print(\"Key=\",maximum.key)\n",
    "print(\"Recovered message:\",maximum.message)"
   ]
  }
 ],
 "metadata": {
  "kernelspec": {
   "display_name": "Python 3.10.6 64-bit",
   "language": "python",
   "name": "python3"
  },
  "language_info": {
   "codemirror_mode": {
    "name": "ipython",
    "version": 3
   },
   "file_extension": ".py",
   "mimetype": "text/x-python",
   "name": "python",
   "nbconvert_exporter": "python",
   "pygments_lexer": "ipython3",
   "version": "3.10.6"
  },
  "orig_nbformat": 4,
  "vscode": {
   "interpreter": {
    "hash": "3a501d581e90d4f78ac42f5e05b2bd2f2b7ecd267861db3f3c2661c594f10a95"
   }
  }
 },
 "nbformat": 4,
 "nbformat_minor": 2
}
